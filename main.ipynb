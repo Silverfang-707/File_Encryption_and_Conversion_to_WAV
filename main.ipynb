{
 "cells": [
  {
   "cell_type": "code",
   "execution_count": 111,
   "metadata": {},
   "outputs": [],
   "source": [
    "import wave\n",
    "from Crypto.Cipher import AES\n",
    "from Crypto.Util.Padding import pad, unpad\n",
    "from Crypto.Hash import SHA256\n",
    "import os"
   ]
  },
  {
   "cell_type": "code",
   "execution_count": 112,
   "metadata": {},
   "outputs": [],
   "source": [
    "#converting the input file to binary\n",
    "def convert_to_binary(file_path, binary_file_path):\n",
    "    # Read the file in binary mode\n",
    "    with open(file_path, 'rb') as file:\n",
    "        binary_data = file.read()\n",
    "\n",
    "    # Write the binary data to a file\n",
    "    with open(binary_file_path, 'wb') as file:\n",
    "        file.write(binary_data)"
   ]
  },
  {
   "cell_type": "code",
   "execution_count": 113,
   "metadata": {},
   "outputs": [],
   "source": [
    "#reconstructing the binary file to its original form\n",
    "def reconstruct_from_binary(binary_file_path, output_file_path):\n",
    "    # Read the binary data from the file\n",
    "    with open(binary_file_path, 'rb') as file:\n",
    "        binary_data = file.read()\n",
    "\n",
    "    # Write the binary data back to its original form\n",
    "    with open(output_file_path, 'wb') as file:\n",
    "        file.write(binary_data)"
   ]
  },
  {
   "cell_type": "code",
   "execution_count": 114,
   "metadata": {},
   "outputs": [],
   "source": [
    "#hashing user key to make sure it's the required size\n",
    "def get_key(user_key):\n",
    "    # Use SHA-256 hash to ensure the key is 32 bytes long\n",
    "    return SHA256.new(user_key.encode()).digest()"
   ]
  },
  {
   "cell_type": "code",
   "execution_count": 115,
   "metadata": {},
   "outputs": [],
   "source": [
    "#encrypting the binary file\n",
    "def encrypt_file(file_path, user_key):\n",
    "    key = get_key(user_key)\n",
    "    cipher = AES.new(key, AES.MODE_CBC)\n",
    "\n",
    "    # Read the file in binary mode\n",
    "    with open(file_path, 'rb') as file:\n",
    "        plaintext = file.read()\n",
    "\n",
    "    ciphertext = cipher.encrypt(pad(plaintext, AES.block_size))\n",
    "\n",
    "    # Write the binary data to a file\n",
    "    with open('encrypted_data.bin', 'wb') as file:\n",
    "        file.write(cipher.iv)\n",
    "        file.write(ciphertext)"
   ]
  },
  {
   "cell_type": "code",
   "execution_count": 116,
   "metadata": {},
   "outputs": [],
   "source": [
    "#decrypting the binary file\n",
    "def decrypt_file(file_path, user_key, output_file_path):\n",
    "    key = get_key(user_key)\n",
    "\n",
    "    # Read the binary data from the file\n",
    "    with open(file_path, 'rb') as file:\n",
    "        iv = file.read(16)\n",
    "        ciphertext = file.read()\n",
    "\n",
    "    cipher = AES.new(key, AES.MODE_CBC, iv=iv)\n",
    "    plaintext = unpad(cipher.decrypt(ciphertext), AES.block_size)\n",
    "\n",
    "    # Write the binary data back to its original form\n",
    "    with open(output_file_path, 'wb') as file:\n",
    "        file.write(plaintext)"
   ]
  },
  {
   "cell_type": "code",
   "execution_count": 117,
   "metadata": {},
   "outputs": [],
   "source": [
    "#converting the binary file into wav format\n",
    "def bin_to_audio(bin_file_path, output_file_path, nchannels=1, sampwidth=2, framerate=44100):\n",
    "    # Open the binary file\n",
    "    with open(bin_file_path, 'rb') as file:\n",
    "        binary_data = file.read()\n",
    "\n",
    "    # Write the binary data to a WAV file\n",
    "    with wave.open(output_file_path, 'wb') as wav_file:\n",
    "        wav_file.setnchannels(nchannels)\n",
    "        wav_file.setsampwidth(sampwidth)\n",
    "        wav_file.setframerate(framerate)\n",
    "        wav_file.writeframes(binary_data)"
   ]
  },
  {
   "cell_type": "code",
   "execution_count": 118,
   "metadata": {},
   "outputs": [],
   "source": [
    "#converting the audio file back to binary\n",
    "def audio_to_bin(input_file_path, bin_file_path):\n",
    "    # Open the WAV file\n",
    "    with wave.open(input_file_path, 'rb') as wav_file:\n",
    "        # Read the binary data from the WAV file\n",
    "        binary_data = wav_file.readframes(wav_file.getnframes())\n",
    "\n",
    "    # Write the binary data to a .bin file\n",
    "    with open(bin_file_path, 'wb') as file:\n",
    "        file.write(binary_data)"
   ]
  },
  {
   "cell_type": "code",
   "execution_count": 119,
   "metadata": {},
   "outputs": [],
   "source": [
    "def file_to_wav(filename, user_key):\n",
    "    convert_to_binary(filename, 'binary_data.bin')\n",
    "    encrypt_file('binary_data.bin', user_key)\n",
    "    bin_to_audio('encrypted_data.bin', 'output.wav')\n",
    "    print('File encrypted and saved as output.wav')"
   ]
  },
  {
   "cell_type": "code",
   "execution_count": 120,
   "metadata": {},
   "outputs": [],
   "source": [
    "def wav_to_file(filename, user_key):\n",
    "    exten = input(\"Enter the extension of the original file: \")\n",
    "    if(exten[0] == '.'):\n",
    "        exten = exten[1:]\n",
    "    if(os.path.exists('reconstructed.' + exten)):\n",
    "        print(\"Warning! reconstructed. \" +exten+\" already exists and will be overwritten.\")\n",
    "        remchoice = input(\"Do you want to continue? (y/n): \")\n",
    "        if(remchoice == 'n'):\n",
    "            raise ValueError(\"Operation cancelled by user.\")\n",
    "    audio_to_bin(filename, 'decrypted_data.bin')\n",
    "    decrypt_file('decrypted_data.bin', user_key, 'binary_data.bin')\n",
    "    reconstruct_from_binary('binary_data.bin', 'reconstructed'+ '.' + exten)\n",
    "    print('File decrypted and saved as reconstructed.' + exten)"
   ]
  },
  {
   "cell_type": "code",
   "execution_count": 121,
   "metadata": {},
   "outputs": [],
   "source": [
    "choice=int(input(\"(1)File to Audio or (2)Audio to File: \"))\n",
    "if choice != 1 and choice != 2:\n",
    "    raise ValueError(\"Invalid choice, Choices should be either 1 or 2\")"
   ]
  },
  {
   "cell_type": "code",
   "execution_count": 122,
   "metadata": {},
   "outputs": [],
   "source": [
    "user_key = input(\"Enter password(in case of wav to file input the decryption password): \")"
   ]
  },
  {
   "cell_type": "code",
   "execution_count": 123,
   "metadata": {},
   "outputs": [
    {
     "name": "stdout",
     "output_type": "stream",
     "text": [
      "File decrypted and saved as reconstructed.png\n"
     ]
    }
   ],
   "source": [
    "if choice==1:\n",
    "    filename=input(\"Enter the name of the file with extension: \")\n",
    "    if(not os.path.exists(filename)):\n",
    "        raise FileNotFoundError(\"Input file does not exist\")\n",
    "    elif(os.stat(filename).st_size==0):\n",
    "        print(\"File is empty\")\n",
    "    elif(os.path.exists(\"output.wav\")):\n",
    "        print(\"Warning! output.wav already exists and will be overwritten.\")\n",
    "        remchoice = input(\"Do you want to continue? (y/n): \")\n",
    "        if(remchoice == 'n'):\n",
    "            raise ValueError(\"Operation cancelled by user.\")\n",
    "        elif remchoice != 'y':\n",
    "            raise ValueError(\"Invalid choice canelling operation\")\n",
    "    file_to_wav(filename, user_key)\n",
    "    os.remove('binary_data.bin')\n",
    "    os.remove('encrypted_data.bin')\n",
    "\n",
    "else:\n",
    "        try:\n",
    "            filename=input(\"Enter the name of the audio file(leave empty if it's output.wav): \")\n",
    "            if(filename == ''):\n",
    "                filename = 'output.wav'\n",
    "            if(filename[-4:]!='.wav'):\n",
    "                filename = filename + '.wav'\n",
    "            if(not os.path.exists(filename)):\n",
    "                raise FileNotFoundError(\"File does not exist\")\n",
    "            elif(os.stat(filename).st_size==0):\n",
    "                print(\"File is empty\")\n",
    "            wav_to_file(filename, user_key)\n",
    "            os.remove('binary_data.bin')\n",
    "            os.remove('decrypted_data.bin')\n",
    "        except(ValueError):\n",
    "            os.remove('decrypted_data.bin')\n",
    "            print(\"Invalid Password\")"
   ]
  }
 ],
 "metadata": {
  "kernelspec": {
   "display_name": "machine_learning_3.10",
   "language": "python",
   "name": "python3"
  },
  "language_info": {
   "codemirror_mode": {
    "name": "ipython",
    "version": 3
   },
   "file_extension": ".py",
   "mimetype": "text/x-python",
   "name": "python",
   "nbconvert_exporter": "python",
   "pygments_lexer": "ipython3",
   "version": "3.10.14"
  }
 },
 "nbformat": 4,
 "nbformat_minor": 2
}
